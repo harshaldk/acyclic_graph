{
 "cells": [
  {
   "cell_type": "markdown",
   "metadata": {},
   "source": [
    "### Using the [topological sorting algorithm](https://www.wikiwand.com/en/Topological_sorting), check whether given [diagraph](http://vlado.fmf.uni-lj.si/pub/networks/data/esna/centrality.htm) is acyclic or not. "
   ]
  },
  {
   "cell_type": "code",
   "execution_count": 1,
   "metadata": {
    "collapsed": true
   },
   "outputs": [],
   "source": [
    "import networkx as nx\n",
    "\n",
    "G = nx.read_pajek('centrality_literature.paj')  # reading the pajek file."
   ]
  },
  {
   "cell_type": "code",
   "execution_count": 2,
   "metadata": {
    "collapsed": true
   },
   "outputs": [],
   "source": [
    "# defining the indegree for vertices. We could have used the command .in_degree, but this gives tuple, so I am introducing \n",
    "# dictionary to change it easily. \n",
    "\n",
    "Deg_in = {i: 0 for i in G }\n",
    "\n",
    "for i in G:\n",
    "    for v in G[i]:\n",
    "        Deg_in [v] += 1 "
   ]
  },
  {
   "cell_type": "code",
   "execution_count": 3,
   "metadata": {
    "collapsed": true
   },
   "outputs": [],
   "source": [
    "# finding the vertices with zero indegree and appending them to \"L\"\n",
    "\n",
    "L = []\n",
    "\n",
    "for u in Deg_in:\n",
    "    if Deg_in[u] == 0:\n",
    "        L.append(u)\n",
    "\n",
    "#print(L)"
   ]
  },
  {
   "cell_type": "code",
   "execution_count": 4,
   "metadata": {
    "collapsed": true
   },
   "outputs": [],
   "source": [
    "# choose the zero in-degree node and reduce the indegree of corresponding neighbors. Append that node to \"order\". Check if there \n",
    "# is any zero in-degree vertex, after reducing the in-degrees. If it is, append that to \"L\". The cycle continues from the \n",
    "# beginning as long as there is a zero in-degree vertex in the graph. \n",
    "\n",
    "order = []\n",
    "\n",
    "while len(L) != 0:\n",
    "    l1 = L.pop(0)\n",
    "    order.append(l1)\n",
    "    for i in G[l1]:\n",
    "        Deg_in[i] -= 1\n",
    "        if Deg_in[i] == 0:\n",
    "            L.append(i)\n",
    "    "
   ]
  },
  {
   "cell_type": "code",
   "execution_count": 5,
   "metadata": {},
   "outputs": [
    {
     "name": "stdout",
     "output_type": "stream",
     "text": [
      "the topological order is:  ['Bavelas-48', 'Bavelas-50', 'Guetzko-51', 'Luce...-51', '--- 13 -', '--- 15 -', 'Guetzko-54', 'ChristiA54', 'Shaw...A55', '--- 35 -  ', '--- 38 -', '--- 40 -', '--- 41 -', 'FlamentB56', 'Mulder.-56', 'RobyL..A56', 'RobyL..B56', 'RobyL..B57', 'Mulder.-58', '--- 62 -', '--- 64 -', '--- 68 -', 'Flament-60', '--- 70 -  ', 'CohenBW-60', 'CohenB-A60', 'CohenB-B60', 'CohenBB-60', '--- 80 -', 'GlanzeG-61', '--- 93 -', 'Cohen..B64', 'McWhinn-64', 'Shaw...-64', 'MacKenz-64', 'Flament-65', 'Burgess-68', 'BurgessA68', 'CollinR-69', 'Leavitt-49', 'Leavitt-51', 'Mulder.-55', 'Rogers.-74', 'Smith..-50', 'Smith..-51', 'BavelaB-51', 'HeiseM.-51', 'Shaw...A54', 'Goldber-55', 'GuetzkS-55', 'FlamentA56', 'MohannA-60', 'ChrisLM-52', 'Shaw...-53', 'Hirota.-53', 'Shaw...C54', 'Rogge..-53', 'MacyCL.-53', 'ChristL-54', 'LanzetRB56', '#GilchSW-54', 'Karanef-54', 'LanzetRA56', 'Trow...-57', 'ShellyG-58', 'ChristM-54', 'LuceMCH-53', 'DeSoto.-53', 'Shaw...B55', 'FaucheM-60', 'Carzo..-63', 'RobyL..A57', 'Walker.-54', 'ChristiB54', 'Shelly.-53', 'Shaw...-56', 'ShawR..-56', 'ShawRS.-57', 'Shaw...-58', 'MacKenz-66', 'ChrisLM-56', 'GuetzkD-57', 'LanzetR-57', 'Mulder.A59', 'Shaw...-59', '--- 63 -  ', 'Guetzko-60', 'CohenBW-61', 'McWhinn-54', '#FlamentA58', 'MorisPS-65', 'RogersA-76', 'Mulder.B59', 'Mulder.B60', 'WatsonB-65', 'Cohen..-61', 'CohenB.-61', 'ShurRLT-62', 'CohenBW-62', 'LeavitK-63', 'DoktorM-74', 'Flament-61', 'MorisSC-65', 'Mulder.A60', 'Harshbe-71', 'Cohen..-62', 'CohenB.-62', 'Lawson.-65', 'Flament-63', 'Morisse-66', 'Snadows-74', 'Cohen.-C64', 'Lawson.A64', 'Beaucha-65', 'FaucheM-66', 'Cohen..A64', 'CohenRF-73', 'Lawson.B64', 'Sabidus-66', 'Snadows-72', 'Cohen..-67', 'BurgessB68', 'Niemine-73', 'Niemine-74', 'MoxleyM-74', 'CohenF.-68', 'BurgessC68', 'Freeman-77', 'Freeman-79']\n"
     ]
    }
   ],
   "source": [
    "# return the output\n",
    "\n",
    "if len(order) == len(G):\n",
    "    print(\"the topological order is: \", order)\n",
    "else:\n",
    "    print(\"there exist a cycle in the graph\")"
   ]
  }
 ],
 "metadata": {
  "kernelspec": {
   "display_name": "Python 3",
   "language": "python",
   "name": "python3"
  },
  "language_info": {
   "codemirror_mode": {
    "name": "ipython",
    "version": 3
   },
   "file_extension": ".py",
   "mimetype": "text/x-python",
   "name": "python",
   "nbconvert_exporter": "python",
   "pygments_lexer": "ipython3",
   "version": "3.6.1"
  }
 },
 "nbformat": 4,
 "nbformat_minor": 2
}

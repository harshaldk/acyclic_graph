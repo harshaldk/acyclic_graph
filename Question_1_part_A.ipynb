{
 "cells": [
  {
   "cell_type": "markdown",
   "metadata": {
    "collapsed": true
   },
   "source": [
    "### Using the [topological sorting algorithm](https://www.wikiwand.com/en/Topological_sorting), check whether given [diagraph](http://vlado.fmf.uni-lj.si/pub/networks/data/esna/flying.htm) is acyclic or not. \n",
    "\n"
   ]
  },
  {
   "cell_type": "code",
   "execution_count": 1,
   "metadata": {
    "collapsed": true
   },
   "outputs": [],
   "source": [
    "import networkx as nx\n",
    "\n",
    "G = nx.read_pajek('Flying_teams.paj') # reading the pajek file."
   ]
  },
  {
   "cell_type": "code",
   "execution_count": 2,
   "metadata": {
    "collapsed": true
   },
   "outputs": [],
   "source": [
    "# defining the indegree for vertices. We could have used the command .in_degree, but this gives tuple. I am introducing \n",
    "# dictionary, which is easy to modify. \n",
    "\n",
    "Deg_in = {i: 0 for i in G }\n",
    "\n",
    "for i in G:\n",
    "    for k in G[i]:\n",
    "        Deg_in [k] += 1 "
   ]
  },
  {
   "cell_type": "code",
   "execution_count": 3,
   "metadata": {
    "collapsed": true
   },
   "outputs": [],
   "source": [
    "# finding the vertices with zero indegree and appending them to \"L\"\n",
    "\n",
    "L = []\n",
    "\n",
    "for u in Deg_in:\n",
    "    if Deg_in[u] == 0:\n",
    "        L.append(u)\n",
    "\n",
    "# print(L)"
   ]
  },
  {
   "cell_type": "code",
   "execution_count": 4,
   "metadata": {
    "collapsed": true
   },
   "outputs": [],
   "source": [
    "# choose the zero in-degree node and reduce the indegree of corresponding neighbors. Append that node to \"order\". \n",
    "# Check if there is any zero in-degree vertex. If it is, append that to \"L\". The cycle continues from the beginning as long as \n",
    "# there is a zero in-degree vertex in the graph. \n",
    "\n",
    "order = []\n",
    "\n",
    "while len(L) != 0:\n",
    "    l1 = L.pop(0)\n",
    "    order.append(l1)\n",
    "    for i in G[l1]:\n",
    "        Deg_in[i] -= 1\n",
    "        if Deg_in[i] == 0:\n",
    "            L.append(i)\n",
    "    "
   ]
  },
  {
   "cell_type": "code",
   "execution_count": 5,
   "metadata": {},
   "outputs": [
    {
     "name": "stdout",
     "output_type": "stream",
     "text": [
      "there exist a cycle in the graph\n"
     ]
    }
   ],
   "source": [
    "# return the output\n",
    "\n",
    "if len(order) == len(G):\n",
    "    print(\"the topological order is: \", order)\n",
    "else:\n",
    "    print(\"there exist a cycle in the graph\")\n",
    "# print(len(order))"
   ]
  },
  {
   "cell_type": "code",
   "execution_count": null,
   "metadata": {
    "collapsed": true
   },
   "outputs": [],
   "source": []
  }
 ],
 "metadata": {
  "kernelspec": {
   "display_name": "Python 3",
   "language": "python",
   "name": "python3"
  },
  "language_info": {
   "codemirror_mode": {
    "name": "ipython",
    "version": 3
   },
   "file_extension": ".py",
   "mimetype": "text/x-python",
   "name": "python",
   "nbconvert_exporter": "python",
   "pygments_lexer": "ipython3",
   "version": "3.6.1"
  }
 },
 "nbformat": 4,
 "nbformat_minor": 2
}
